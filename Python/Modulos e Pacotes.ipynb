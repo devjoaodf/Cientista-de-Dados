{
 "cells": [
  {
   "cell_type": "code",
   "execution_count": 2,
   "id": "ba274b75-4dd4-4d6a-be2d-dba5176b6b94",
   "metadata": {
    "tags": []
   },
   "outputs": [
    {
     "name": "stdout",
     "output_type": "stream",
     "text": [
      "25\n",
      "25.0\n"
     ]
    }
   ],
   "source": [
    "import statistics\n",
    "z = [10,20,30,40]\n",
    "x = statistics.mean(z)\n",
    "y = statistics.median(z)\n",
    "print(x)\n",
    "print(y)"
   ]
  },
  {
   "cell_type": "code",
   "execution_count": 4,
   "id": "6ef9573d-9a3f-47ff-a442-0c80df0d16a1",
   "metadata": {
    "tags": []
   },
   "outputs": [
    {
     "name": "stdout",
     "output_type": "stream",
     "text": [
      "25\n",
      "25.0\n"
     ]
    }
   ],
   "source": [
    "import statistics as est\n",
    "z = [10,20,30,40]\n",
    "x = est.mean(z)\n",
    "y = est.median(z)\n",
    "print(x)\n",
    "print(y)"
   ]
  },
  {
   "cell_type": "code",
   "execution_count": 5,
   "id": "9e2e3b8c-5db4-4109-811c-55866d8d9073",
   "metadata": {
    "tags": []
   },
   "outputs": [
    {
     "name": "stdout",
     "output_type": "stream",
     "text": [
      "25\n",
      "25.0\n"
     ]
    }
   ],
   "source": [
    "from statistics import mean, median\n",
    "z = [10,20,30,40]\n",
    "x = mean(z)\n",
    "y = median(z)\n",
    "print(x)\n",
    "print(y)"
   ]
  },
  {
   "cell_type": "code",
   "execution_count": 6,
   "id": "08378abf-2633-44f3-afd2-a7677d49575c",
   "metadata": {
    "tags": []
   },
   "outputs": [
    {
     "name": "stdout",
     "output_type": "stream",
     "text": [
      "25\n",
      "25.0\n"
     ]
    }
   ],
   "source": [
    "from statistics import *\n",
    "z = [10,20,30,40]\n",
    "y = mean(z)\n",
    "y = median(z)\n",
    "print(x)\n",
    "print(y)"
   ]
  },
  {
   "cell_type": "code",
   "execution_count": null,
   "id": "50467b0e-4b7f-4ce6-b6f9-a462d8664de3",
   "metadata": {},
   "outputs": [],
   "source": []
  }
 ],
 "metadata": {
  "kernelspec": {
   "display_name": "Python 3 (ipykernel)",
   "language": "python",
   "name": "python3"
  },
  "language_info": {
   "codemirror_mode": {
    "name": "ipython",
    "version": 3
   },
   "file_extension": ".py",
   "mimetype": "text/x-python",
   "name": "python",
   "nbconvert_exporter": "python",
   "pygments_lexer": "ipython3",
   "version": "3.11.4"
  }
 },
 "nbformat": 4,
 "nbformat_minor": 5
}
