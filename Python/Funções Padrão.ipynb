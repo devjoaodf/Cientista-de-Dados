{
 "cells": [
  {
   "cell_type": "code",
   "execution_count": 6,
   "id": "bd1adc6f-6377-4450-a24a-12d385e7eaca",
   "metadata": {
    "tags": []
   },
   "outputs": [
    {
     "name": "stdout",
     "output_type": "stream",
     "text": [
      "200\n",
      "Maior valor:  45\n",
      "Menor valor:  1\n",
      "Soma:  108\n",
      "Arrendondamento:  2.35\n"
     ]
    }
   ],
   "source": [
    "#funções internas\n",
    "print(abs(-200))\n",
    "lst = [1,2,30,30,45]\n",
    "print(\"Maior valor: \", max(lst))\n",
    "print(\"Menor valor: \", min(lst))\n",
    "print(\"Soma: \", sum(lst))\n",
    "print(\"Arrendondamento: \", round(2.34567,2))"
   ]
  },
  {
   "cell_type": "code",
   "execution_count": 7,
   "id": "60ae0519-9049-4e9c-8ce2-2a7610f69f92",
   "metadata": {
    "tags": []
   },
   "outputs": [
    {
     "name": "stdout",
     "output_type": "stream",
     "text": [
      "Média:  21.6\n",
      "Mediana:  30\n",
      "Moda:  30\n"
     ]
    }
   ],
   "source": [
    "#statistica\n",
    "from statistics import *\n",
    "print(\"Média: \", mean(lst))\n",
    "print(\"Mediana: \", median(lst))\n",
    "print(\"Moda: \", mode(lst))"
   ]
  },
  {
   "cell_type": "code",
   "execution_count": 13,
   "id": "f9949a54-abb1-4766-826d-fba81c5db425",
   "metadata": {
    "tags": []
   },
   "outputs": [
    {
     "name": "stdout",
     "output_type": "stream",
     "text": [
      "Variancia:  19.346834366376324\n"
     ]
    }
   ],
   "source": [
    "#desvio padrão da amostra\n",
    "print(\"Variancia: \", stdev(lst))"
   ]
  },
  {
   "cell_type": "code",
   "execution_count": 14,
   "id": "3aa0888d-f8a9-43b8-9475-1a17f337c53e",
   "metadata": {
    "tags": []
   },
   "outputs": [
    {
     "name": "stdout",
     "output_type": "stream",
     "text": [
      "Variancia:  374.3\n"
     ]
    }
   ],
   "source": [
    "#desvio padrão da amostra\n",
    "print(\"Variancia: \", variance(lst))"
   ]
  },
  {
   "cell_type": "code",
   "execution_count": 17,
   "id": "de6da433-3532-4ff6-aa57-688081e124d1",
   "metadata": {
    "tags": []
   },
   "outputs": [
    {
     "name": "stdout",
     "output_type": "stream",
     "text": [
      "<class 'numpy.ndarray'>\n",
      "[[0.22747205 0.9667863  0.11776893 0.8909153  0.9318596  0.20855091\n",
      "  0.5006654  0.11223356]\n",
      " [0.46494357 0.21523223 0.19948778 0.35728699 0.05824254 0.85408554\n",
      "  0.91501157 0.88904233]\n",
      " [0.71711449 0.92385574 0.75721301 0.58546455 0.131911   0.35256562\n",
      "  0.09887305 0.9096876 ]\n",
      " [0.45197198 0.08781445 0.96128164 0.02880796 0.8687061  0.94149045\n",
      "  0.53244356 0.7127469 ]\n",
      " [0.85074043 0.3486768  0.21446614 0.93481158 0.56578045 0.31860022\n",
      "  0.21532326 0.68518016]\n",
      " [0.30769788 0.47589803 0.13302866 0.84775381 0.11650546 0.68030879\n",
      "  0.23818933 0.53593892]\n",
      " [0.78865112 0.20900077 0.0096034  0.93583455 0.95095451 0.47222716\n",
      "  0.43547261 0.70614856]\n",
      " [0.18053733 0.27134159 0.27863751 0.00529977 0.74404293 0.30521368\n",
      "  0.90541395 0.81232856]]\n"
     ]
    }
   ],
   "source": [
    "from numpy import *\n",
    "a = random.random((8,8))\n",
    "print(type(a))\n",
    "print(a)"
   ]
  },
  {
   "cell_type": "code",
   "execution_count": null,
   "id": "6bf61c8d-dc7c-42e9-a5c8-a5d406a9d095",
   "metadata": {},
   "outputs": [],
   "source": []
  }
 ],
 "metadata": {
  "kernelspec": {
   "display_name": "Python 3 (ipykernel)",
   "language": "python",
   "name": "python3"
  },
  "language_info": {
   "codemirror_mode": {
    "name": "ipython",
    "version": 3
   },
   "file_extension": ".py",
   "mimetype": "text/x-python",
   "name": "python",
   "nbconvert_exporter": "python",
   "pygments_lexer": "ipython3",
   "version": "3.11.4"
  }
 },
 "nbformat": 4,
 "nbformat_minor": 5
}
