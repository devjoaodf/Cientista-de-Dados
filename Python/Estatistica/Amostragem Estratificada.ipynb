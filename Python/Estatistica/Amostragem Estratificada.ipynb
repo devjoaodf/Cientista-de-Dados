{
 "cells": [
  {
   "cell_type": "code",
   "execution_count": null,
   "id": "91688402-a719-42a1-b94e-040d3994b619",
   "metadata": {},
   "outputs": [],
   "source": [
    "#Importação das bibliotecas: pandas para carregar arquivos .csv e trains_test_split para divisão da base de dados (separar amostras)"
   ]
  }
 ],
 "metadata": {
  "kernelspec": {
   "display_name": "Python 3 (ipykernel)",
   "language": "python",
   "name": "python3"
  },
  "language_info": {
   "codemirror_mode": {
    "name": "ipython",
    "version": 3
   },
   "file_extension": ".py",
   "mimetype": "text/x-python",
   "name": "python",
   "nbconvert_exporter": "python",
   "pygments_lexer": "ipython3",
   "version": "3.11.4"
  }
 },
 "nbformat": 4,
 "nbformat_minor": 5
}
