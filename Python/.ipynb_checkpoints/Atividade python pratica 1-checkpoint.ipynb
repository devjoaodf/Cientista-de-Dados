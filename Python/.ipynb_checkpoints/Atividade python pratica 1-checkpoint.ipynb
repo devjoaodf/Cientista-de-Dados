{
 "cells": [
  {
   "cell_type": "code",
   "execution_count": 145,
   "id": "a9939155-36fe-44e6-a379-de67a31725b0",
   "metadata": {
    "tags": []
   },
   "outputs": [
    {
     "name": "stdout",
     "output_type": "stream",
     "text": [
      "(1, 2, 3, 4, 5, 6, 7)\n"
     ]
    }
   ],
   "source": [
    "#amplitude\n",
    "def amplitude(): \n",
    "    lst = (1,2,3,4,5,6,7) \n",
    "    print(lst)\n",
    "amplitude()"
   ]
  },
  {
   "cell_type": "code",
   "execution_count": 86,
   "id": "8582d872-38b3-4c15-bc1a-e7407a879c55",
   "metadata": {
    "tags": []
   },
   "outputs": [
    {
     "name": "stdin",
     "output_type": "stream",
     "text": [
      "digite algo  teste\n"
     ]
    },
    {
     "name": "stdout",
     "output_type": "stream",
     "text": [
      "t\n",
      "e\n",
      "s\n",
      "t\n",
      "e\n"
     ]
    }
   ],
   "source": [
    "def vertical():\n",
    "   for c in input(\"digite algo \"):  print(c)\n",
    "vertical()"
   ]
  },
  {
   "cell_type": "code",
   "execution_count": 109,
   "id": "f9af1178-0a24-4a00-a780-928543f0f06b",
   "metadata": {
    "tags": []
   },
   "outputs": [
    {
     "name": "stdout",
     "output_type": "stream",
     "text": [
      "transporte não aceito\n"
     ]
    }
   ],
   "source": [
    "carga = (25)\n",
    "if(carga <= 10):\n",
    "    print(\"$50 reais\")\n",
    "elif(carga >= 10 and carga <= 20):\n",
    "    print(\"$80 reais\")\n",
    "elif(carga >= 20):\n",
    "    print(\"transporte não aceito\")"
   ]
  },
  {
   "cell_type": "code",
   "execution_count": null,
   "id": "fba18ed6-50c1-4ed0-9d23-fa807ea7132d",
   "metadata": {},
   "outputs": [],
   "source": []
  }
 ],
 "metadata": {
  "kernelspec": {
   "display_name": "Python 3 (ipykernel)",
   "language": "python",
   "name": "python3"
  },
  "language_info": {
   "codemirror_mode": {
    "name": "ipython",
    "version": 3
   },
   "file_extension": ".py",
   "mimetype": "text/x-python",
   "name": "python",
   "nbconvert_exporter": "python",
   "pygments_lexer": "ipython3",
   "version": "3.11.4"
  }
 },
 "nbformat": 4,
 "nbformat_minor": 5
}
