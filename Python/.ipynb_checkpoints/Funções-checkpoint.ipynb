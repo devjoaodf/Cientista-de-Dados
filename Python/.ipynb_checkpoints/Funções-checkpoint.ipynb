{
 "cells": [
  {
   "cell_type": "code",
   "execution_count": 1,
   "id": "7797ffb8-6b0d-4e49-bd75-e49fa865e8bd",
   "metadata": {
    "tags": []
   },
   "outputs": [
    {
     "name": "stdout",
     "output_type": "stream",
     "text": [
      "esta é uma função\n"
     ]
    }
   ],
   "source": [
    "def imprime():\n",
    "    print(\"esta é uma função\")\n",
    "imprime()"
   ]
  },
  {
   "cell_type": "code",
   "execution_count": 2,
   "id": "2464ca64-2a2b-4975-9bd8-bfd036b35e5c",
   "metadata": {
    "tags": []
   },
   "outputs": [
    {
     "name": "stdout",
     "output_type": "stream",
     "text": [
      "Impressão desse texto\n"
     ]
    }
   ],
   "source": [
    "#com parametro\n",
    "def imprime(n):\n",
    "    print(n)\n",
    "imprime(\"Impressão desse texto\")"
   ]
  },
  {
   "cell_type": "code",
   "execution_count": 3,
   "id": "36a7c695-5ef4-49bd-99fc-81b8a6b34ea7",
   "metadata": {
    "tags": []
   },
   "outputs": [
    {
     "name": "stdout",
     "output_type": "stream",
     "text": [
      "9\n"
     ]
    }
   ],
   "source": [
    "#com retorno\n",
    "def potencia(n):\n",
    "    return n * n\n",
    "x = potencia(3)\n",
    "print(x)"
   ]
  },
  {
   "cell_type": "code",
   "execution_count": 12,
   "id": "02cd5834-94f2-45dd-a437-0b5c3fd24aee",
   "metadata": {
    "tags": []
   },
   "outputs": [
    {
     "name": "stdout",
     "output_type": "stream",
     "text": [
      "1\n",
      "2\n",
      "3\n",
      "4\n",
      "5\n",
      "6\n",
      "7\n",
      "8\n",
      "9\n",
      "10\n",
      "1\n",
      "2\n",
      "3\n",
      "4\n",
      "5\n",
      "6\n",
      "7\n",
      "8\n",
      "9\n",
      "10\n"
     ]
    }
   ],
   "source": [
    "#com valor default\n",
    "def intervalo(inic=1,fim=10):\n",
    "    for inic in range(1, fim+1):\n",
    "        print(inic)\n",
    "x = intervalo(1,10)\n",
    "x = intervalo()"
   ]
  },
  {
   "cell_type": "code",
   "execution_count": null,
   "id": "5db43fc1-d762-4301-be67-3e0740a70dcc",
   "metadata": {},
   "outputs": [],
   "source": []
  }
 ],
 "metadata": {
  "kernelspec": {
   "display_name": "Python 3 (ipykernel)",
   "language": "python",
   "name": "python3"
  },
  "language_info": {
   "codemirror_mode": {
    "name": "ipython",
    "version": 3
   },
   "file_extension": ".py",
   "mimetype": "text/x-python",
   "name": "python",
   "nbconvert_exporter": "python",
   "pygments_lexer": "ipython3",
   "version": "3.11.4"
  }
 },
 "nbformat": 4,
 "nbformat_minor": 5
}
